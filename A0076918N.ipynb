{
 "cells": [
  {
   "cell_type": "code",
   "execution_count": 1,
   "metadata": {
    "colab": {
     "base_uri": "https://localhost:8080/",
     "height": 120
    },
    "colab_type": "code",
    "executionInfo": {
     "elapsed": 13238,
     "status": "ok",
     "timestamp": 1585813853050,
     "user": {
      "displayName": "Ning Zhang",
      "photoUrl": "https://lh3.googleusercontent.com/a-/AOh14Ghr5UX0APhU2TWuwvXTNDzcepPah8SByZIU4yZe=s64",
      "userId": "12536691088853738123"
     },
     "user_tz": -480
    },
    "id": "-pjpU3CxGUhM",
    "outputId": "a29bc705-be83-4cc2-8495-6b1c12ff826b"
   },
   "outputs": [
    {
     "name": "stdout",
     "output_type": "stream",
     "text": [
      "Go to this URL in a browser: https://accounts.google.com/o/oauth2/auth?client_id=947318989803-6bn6qk8qdgf4n4g3pfee6491hc0brc4i.apps.googleusercontent.com&redirect_uri=urn%3aietf%3awg%3aoauth%3a2.0%3aoob&response_type=code&scope=email%20https%3a%2f%2fwww.googleapis.com%2fauth%2fdocs.test%20https%3a%2f%2fwww.googleapis.com%2fauth%2fdrive%20https%3a%2f%2fwww.googleapis.com%2fauth%2fdrive.photos.readonly%20https%3a%2f%2fwww.googleapis.com%2fauth%2fpeopleapi.readonly\n",
      "\n",
      "Enter your authorization code:\n",
      "··········\n",
      "Mounted at /content/drive\n"
     ]
    }
   ],
   "source": [
    "MATRIC_NUM = 'A0076918N'\n",
    "import sys\n",
    "import os.path as osp\n",
    "from google.colab import drive\n",
    "drive.mount('/content/drive')\n",
    "ROOT = osp.join('/content', 'drive', 'My Drive', 'CS5260')\n",
    "sys.path.append(osp.join(ROOT, MATRIC_NUM))"
   ]
  },
  {
   "cell_type": "code",
   "execution_count": 2,
   "metadata": {
    "colab": {
     "base_uri": "https://localhost:8080/",
     "height": 33
    },
    "colab_type": "code",
    "executionInfo": {
     "elapsed": 5777,
     "status": "ok",
     "timestamp": 1585813863576,
     "user": {
      "displayName": "Ning Zhang",
      "photoUrl": "https://lh3.googleusercontent.com/a-/AOh14Ghr5UX0APhU2TWuwvXTNDzcepPah8SByZIU4yZe=s64",
      "userId": "12536691088853738123"
     },
     "user_tz": -480
    },
    "id": "T6aBPuFrKt-w",
    "outputId": "711a28fc-c278-41a3-ecb0-25bcbeb229f3"
   },
   "outputs": [
    {
     "name": "stdout",
     "output_type": "stream",
     "text": [
      "GPU is available.\n"
     ]
    }
   ],
   "source": [
    "import torch\n",
    "if torch.cuda.is_available():\n",
    "  print(\"GPU is available.\")\n",
    "  device = torch.device('cuda')\n",
    "else:\n",
    "  print(\"Change runtime type to GPU for better performance.\")\n",
    "  device = torch.device('cpu')"
   ]
  },
  {
   "cell_type": "code",
   "execution_count": 3,
   "metadata": {
    "colab": {
     "base_uri": "https://localhost:8080/",
     "height": 50
    },
    "colab_type": "code",
    "executionInfo": {
     "elapsed": 8440,
     "status": "ok",
     "timestamp": 1585813873699,
     "user": {
      "displayName": "Ning Zhang",
      "photoUrl": "https://lh3.googleusercontent.com/a-/AOh14Ghr5UX0APhU2TWuwvXTNDzcepPah8SByZIU4yZe=s64",
      "userId": "12536691088853738123"
     },
     "user_tz": -480
    },
    "id": "n00sVGu4LRJA",
    "outputId": "f1408959-ad9b-48af-a294-2ad20ef9748d"
   },
   "outputs": [
    {
     "name": "stdout",
     "output_type": "stream",
     "text": [
      "/content/drive/My Drive/CS5260/A0076918N\n",
      "A0076918N.ipynb  load_model_36.pyc  lstm_mix_100_all_add1.pth\n"
     ]
    }
   ],
   "source": [
    "# import libraries here, modify as you like.\n",
    "import numpy as np\n",
    "import matplotlib.pyplot as plt\n",
    "from random import randint, uniform\n",
    "from torch.autograd.gradcheck import zero_gradients\n",
    "import torchvision.models as models\n",
    "from PIL import Image\n",
    "from torchvision import transforms\n",
    "import numpy as np\n",
    "import requests, io\n",
    "import matplotlib.pyplot as plt\n",
    "from torch.autograd import Variable\n",
    "import pandas as pd \n",
    "import torch.autograd as autograd #grad\n",
    "import torch.utils.data as utils #Data loader. Combines a dataset and a sampler, and provides single- or multi-process iterators over the dataset.\n",
    "\n",
    "import matplotlib.pyplot as plt\n",
    "\n",
    "from torch.autograd import Variable #Extending torch.autograd\n",
    "import argparse\n",
    "import torch\n",
    "import torch.nn as nn\n",
    "import torch.nn.functional as F\n",
    "from torchvision import datasets, transforms\n",
    "import numpy as np\n",
    "import os\n",
    "from torch.utils import data\n",
    "from os import makedirs\n",
    "import torchvision\n",
    "from PIL import Image\n",
    "import sys\n",
    "import copy\n",
    "\n",
    "import glob\n",
    "import re\n",
    "import imageio\n",
    "#from scipy.misc import imread\n",
    "from matplotlib.pyplot import imread\n",
    "from matplotlib.colors import Normalize\n",
    "import os\n",
    "submission_path = os.path.join(ROOT, \"A0076918N\")\n",
    "os.chdir(submission_path)\n",
    "#%cd A0076918N\n",
    "!pwd\n",
    "!ls"
   ]
  },
  {
   "cell_type": "code",
   "execution_count": 4,
   "metadata": {
    "colab": {
     "base_uri": "https://localhost:8080/",
     "height": 234
    },
    "colab_type": "code",
    "executionInfo": {
     "elapsed": 14972,
     "status": "ok",
     "timestamp": 1585813888734,
     "user": {
      "displayName": "Ning Zhang",
      "photoUrl": "https://lh3.googleusercontent.com/a-/AOh14Ghr5UX0APhU2TWuwvXTNDzcepPah8SByZIU4yZe=s64",
      "userId": "12536691088853738123"
     },
     "user_tz": -480
    },
    "id": "Kwbl3rTtt6y_",
    "outputId": "87e24b90-35e9-4338-e543-bdb210bd4d64"
   },
   "outputs": [
    {
     "name": "stdout",
     "output_type": "stream",
     "text": [
      "Help on function load_model in module load_model_36:\n",
      "\n",
      "load_model(weight_path, device)\n",
      "    Load pretrained model for project.\n",
      "    Params:\n",
      "        weight_path (str, required): path to the .pt file.\n",
      "        device (str, required): either 'cuda' or 'cpu'.\n",
      "    Returns:\n",
      "        torch.nn.Module object: loaded pretrained model.\n",
      "\n",
      "None\n",
      "/content/drive/My Drive/CS5260/model/model.pt\n",
      "cuda\n"
     ]
    }
   ],
   "source": [
    "from load_model_36 import load_model  # XX is the digit for python number, e.g. 37\n",
    "print(help(load_model))  # show the docstring of load_model function\n",
    "model_path = os.path.join(ROOT, \"model\") \n",
    "model_file=model_path + '/model.pt'\n",
    "print(model_file)\n",
    "model = load_model(model_file, 'cuda') # change cuda to cpu to load model to CPU\n",
    "model.eval()\n",
    "model.cuda()\n",
    "device = torch.device(\"cuda\" if torch.cuda.is_available() else \"cpu\")\n",
    "print(device)"
   ]
  },
  {
   "cell_type": "code",
   "execution_count": 5,
   "metadata": {
    "colab": {
     "base_uri": "https://localhost:8080/",
     "height": 134
    },
    "colab_type": "code",
    "executionInfo": {
     "elapsed": 1213,
     "status": "ok",
     "timestamp": 1585813890006,
     "user": {
      "displayName": "Ning Zhang",
      "photoUrl": "https://lh3.googleusercontent.com/a-/AOh14Ghr5UX0APhU2TWuwvXTNDzcepPah8SByZIU4yZe=s64",
      "userId": "12536691088853738123"
     },
     "user_tz": -480
    },
    "id": "MPLvFfMWtLQ4",
    "outputId": "58341cd2-c86b-44c4-b1fe-476685a0d92b"
   },
   "outputs": [
    {
     "name": "stdout",
     "output_type": "stream",
     "text": [
      "Net(\n",
      "  (lstm): LSTM(4, 64, num_layers=3, dropout=0.1)\n",
      "  (fc1): Linear(in_features=64, out_features=256, bias=True)\n",
      "  (fc2): Linear(in_features=256, out_features=256, bias=True)\n",
      "  (fc3): Linear(in_features=256, out_features=128, bias=True)\n",
      "  (fc): Linear(in_features=128, out_features=4, bias=True)\n",
      ")\n"
     ]
    }
   ],
   "source": [
    "batch_size = 1\n",
    "class Net(nn.Module):\n",
    "    def __init__(self,num_classes=4):\n",
    "        super(Net, self).__init__()\n",
    "        self.lstm = nn.LSTM(input_size=4, hidden_size=64, num_layers=3, dropout=0.1)\n",
    "        #self.lstm = nn.LSTM(input_size=4, hidden_size=64, num_layers=3, dropout=0.1,bidirectional=True)\n",
    "        self.fc1 = nn.Linear(64, 256)\n",
    "        #self.fc1 = nn.Linear(128, 256)\n",
    "        self.fc2 = nn.Linear(256, 256)\n",
    "        self.fc3 = nn.Linear(256, 128)\n",
    "        self.fc = nn.Linear(in_features=128, out_features=num_classes)\n",
    "        #self.softmax = nn.Softmax(dim=1)\n",
    "        \n",
    "    def forward(self, x, n_samples=batch_size):\n",
    "        self.hidden = self.init_hidden(n_samples)\n",
    "        lstm_out, self.hidden = self.lstm(x, self.hidden)\n",
    "        #lstm_out, _ = pad_packed_sequence(lstm_out)\n",
    "        x = lstm_out[-1]\n",
    "        #print(x.shape)\n",
    "        x = F.relu(self.fc1(x))\n",
    "        x = F.relu(self.fc2(x))\n",
    "        x = F.relu(self.fc3(x))\n",
    "       \n",
    "        x = self.fc(x)\n",
    "        #print(x)\n",
    "        #x = self.softmax(x)\n",
    "                         \n",
    "        return x\n",
    "    \n",
    "    def init_hidden(self, n_samples):\n",
    "            return(autograd.Variable(torch.randn(3, n_samples, 64)).to(device), autograd.Variable(torch.randn(3, n_samples, 64)).to(device))\n",
    "device = torch.device(\"cuda\" if torch.cuda.is_available() else \"cpu\")\n",
    "model_lstm = Net() \n",
    "model_lstm.cuda()\n",
    "model_lstm =torch.load('lstm_mix_100_all_add1.pth')\n",
    "model_lstm.eval()\n",
    "\n",
    "\n",
    "print(model_lstm.eval())\n"
   ]
  },
  {
   "cell_type": "code",
   "execution_count": 6,
   "metadata": {
    "colab": {
     "base_uri": "https://localhost:8080/",
     "height": 50
    },
    "colab_type": "code",
    "executionInfo": {
     "elapsed": 7413,
     "status": "ok",
     "timestamp": 1585813900961,
     "user": {
      "displayName": "Ning Zhang",
      "photoUrl": "https://lh3.googleusercontent.com/a-/AOh14Ghr5UX0APhU2TWuwvXTNDzcepPah8SByZIU4yZe=s64",
      "userId": "12536691088853738123"
     },
     "user_tz": -480
    },
    "id": "hl0wuwx0sUwr",
    "outputId": "7bd2bcbe-6b38-4f91-bbf6-bf680d376e96"
   },
   "outputs": [
    {
     "name": "stdout",
     "output_type": "stream",
     "text": [
      "A0076918N.ipynb  load_model_36.pyc  lstm_mix_100_all_add1.pth\n",
      "/content/drive/My Drive/CS5260/A0076918N\n"
     ]
    }
   ],
   "source": [
    "images_dir = os.path.join(ROOT, \"images\")\n",
    "results_dir = os.path.join(ROOT, \"results\")\n",
    "\n",
    "#lean_data_dir = 'test/original'\n",
    "#adv_data_dir = 'test/adversarial'\n",
    "mean=[0.485, 0.456, 0.406]\n",
    "std=[0.229, 0.224, 0.225]\n",
    "#clean_data_dir = 'data/clean_images/clean_images'\n",
    "#adv_data_dir = 'data/adv_images/adv_images'\n",
    "\n",
    "\n",
    "#output the prediction results\n",
    "#to be used later\n",
    "\n",
    "def pixel_deflection_without_map(img, deflections, window):\n",
    "    img = np.copy(img)\n",
    "    H, W, C = img.shape\n",
    "    while deflections > 0:\n",
    "        #for consistency, when we deflect the given pixel from all the three channels.\n",
    "        for c in range(C):\n",
    "            x,y = randint(0,H-1), randint(0,W-1)\n",
    "            while True: #this is to ensure that PD pixel lies inside the image\n",
    "                a,b = randint(-1*window,window), randint(-1*window,window)\n",
    "                if x+a < H and x+a > 0 and y+b < W and y+b > 0: break\n",
    "            # calling pixel deflection as pixel swap would be a misnomer,\n",
    "            # as we can see below, it is one way copy\n",
    "            img[x,y,c] = img[x+a,y+b,c] \n",
    "        deflections -= 1\n",
    "    return img\n",
    "\n",
    "def predict_image(image):    \n",
    "    \n",
    "    img= Image.open(image)\n",
    "    preprocess = transforms.Compose ([\n",
    "                    transforms.Resize(128),\n",
    "                    transforms.CenterCrop(128),\n",
    "                    transforms.ToTensor(),\n",
    "                    normalize,])\n",
    "    image_tensor = preprocess(img).float()\n",
    "    image_tensor = image_tensor.unsqueeze_(0)\n",
    "    img_variable1 = Variable(image_tensor, requires_grad=True)\n",
    "    img_variable = img_variable1.to(device)\n",
    "    output = model(img_variable)\n",
    "    index1 = output.data.cpu().numpy().argmax() \n",
    "    return index1, output\n",
    "\n",
    "\n",
    "label_dict = {0:'artifacts', 1:'cancer_regions' , 2:'normal_regions',3:'other'}\n",
    "!ls\n",
    "!pwd"
   ]
  },
  {
   "cell_type": "code",
   "execution_count": 0,
   "metadata": {
    "colab": {},
    "colab_type": "code",
    "id": "LAgqgWB9D0qg"
   },
   "outputs": [],
   "source": [
    "\n",
    "def lstm(image, N, j):\n",
    "    preprocess = transforms.Compose([transforms.Resize(128),\n",
    "                                      transforms.CenterCrop(128),\n",
    "                                      transforms.ToTensor(),\n",
    "                                      transforms.Normalize(mean, std)\n",
    "                                     ])\n",
    "    label_dict = {0:'artifacts', 1:'cancer_regions' , 2:'normal_regions',3:'other'}\n",
    "    x_prob = []\n",
    "    X = np.zeros((1, 100, 4))\n",
    "    for i in range(N):\n",
    "         img_deflected = pixel_deflection_without_map(img, deflections=5000, window=10)\n",
    "         filename = \"test\"\n",
    "         i= str(i)\n",
    "         imageio.imwrite(results_dir + '/' + filename + i +  '.png', img_deflected)\n",
    "         img_pd =  Image.open(results_dir + '/' + filename + i  + '.png')\n",
    "         image_tensor = preprocess(img_pd).float()\n",
    "         os.remove(results_dir + '/' + filename + i  + '.png')\n",
    "         image_tensor = image_tensor.unsqueeze_(0)\n",
    "         img_variable1 = Variable(image_tensor, requires_grad=True)\n",
    "         img_variable = img_variable1.to(device)\n",
    "         output = model(img_variable)\n",
    "         index = output.data.cpu().numpy().argmax() \n",
    "         x_pred = label_dict[index]\n",
    "         #prep for input data to lstm model\n",
    "         output_probs = F.softmax(output, dim=1)\n",
    "         x=(Variable(output_probs).data).cpu().numpy()\n",
    "         x=x.reshape(1, 4)\n",
    "         x_prob=np.append(x_prob,x)\n",
    "    x_prob=np.round(x_prob.reshape(100,4),4)\n",
    "    np.save(filename, x_prob)\n",
    "    x = np.load(filename +'.npy')\n",
    "    X[0,:, :] = x[:, :]\n",
    "    print(\"making prediction...\")\n",
    "    tensor_X = torch.Tensor(X)\n",
    "    data = tensor_X.to(device)\n",
    "    data = data.permute(1,0,2)\n",
    "    output_lstm = model_lstm(data,n_samples=batch_size)\n",
    "    output_index = output_lstm.data.cpu().numpy().argmax()\n",
    "    output_pred = label_dict[output_index]\n",
    "    os.remove(filename +'.npy')\n",
    "    return output_index, output_pred\n",
    "\n",
    "\n",
    "def voting(image, N, j):\n",
    "    count0 =0\n",
    "    count1 =0\n",
    "    count2 =0\n",
    "    count3 =0\n",
    "    preprocess = transforms.Compose([transforms.Resize(128),\n",
    "                                      transforms.CenterCrop(128),\n",
    "                                      transforms.ToTensor(),\n",
    "                                      transforms.Normalize(mean, std)\n",
    "                                     ])\n",
    "   \n",
    "    for i in range(N):\n",
    " \n",
    "            img_deflected = pixel_deflection_without_map(img, deflections=5000, window=10)\n",
    "            #img_deflected = pixel_deflection_with_map(img, rcam_prob, deflections=1000, window=10)\n",
    "            #img_deflected_denoised = denoiser(img_deflected)\n",
    "            #plt.imshow(img_deflected)\n",
    "\n",
    "            #print(img_deflected)\n",
    "            filename = \"test\"\n",
    "            i= str(i)\n",
    "            imageio.imwrite(results_dir + '/' + filename + i +  '.png', img_deflected)\n",
    "\n",
    "           #imageio.imwrite('temp'+ '/' + filename + i +  '.png', img_deflected_denoised)\n",
    "            img_pd =  Image.open(results_dir + '/' + filename + i  + '.png') \n",
    "            #print(img_pd)\n",
    "\n",
    "            image_tensor = preprocess(img_pd).float()\n",
    "            os.remove(results_dir + '/' + filename + i  + '.png')\n",
    "            #image_tensor = preprocess(img1)\n",
    "            image_tensor = image_tensor.unsqueeze_(0)\n",
    "            img_variable1 = Variable(image_tensor, requires_grad=True)\n",
    "            img_variable = img_variable1.to(device)\n",
    "            output = model(img_variable)\n",
    "            index = output.data.cpu().numpy().argmax() \n",
    "            x_pred = label_dict[index]\n",
    "          #  X_PRED[j] = np.append(x_pred, )\n",
    "\n",
    "            j=j+1\n",
    "\n",
    "            if x_pred == \"artifacts\":\n",
    "                count0 = count0 + 1 \n",
    "            elif x_pred == \"cancer_regions\":\n",
    "                count1 = count1 + 1 \n",
    "            elif x_pred == \"normal_regions\":\n",
    "                count2 = count2 + 1 \n",
    "            elif x_pred == \"other\":\n",
    "                count3 = count3 + 1 \n",
    "\n",
    "\n",
    "            #get probability dist over classes\n",
    "            output_probs = F.softmax(output, dim=1)\n",
    "            x_pred_prob =  round((torch.max(output_probs.data, 1)[0][0]).item() * 100,4)\n",
    "            #print(x_pred, x_pred_prob)\n",
    "\n",
    "    count = [count0,count1,count2,count3]\n",
    "    output_index = count.index(max(count))\n",
    "    output_pred = label_dict[output_index]\n",
    "    return output_index, output_pred\n"
   ]
  },
  {
   "cell_type": "code",
   "execution_count": 10,
   "metadata": {
    "colab": {
     "base_uri": "https://localhost:8080/",
     "height": 420
    },
    "colab_type": "code",
    "executionInfo": {
     "elapsed": 20350,
     "status": "error",
     "timestamp": 1585814032530,
     "user": {
      "displayName": "Ning Zhang",
      "photoUrl": "https://lh3.googleusercontent.com/a-/AOh14Ghr5UX0APhU2TWuwvXTNDzcepPah8SByZIU4yZe=s64",
      "userId": "12536691088853738123"
     },
     "user_tz": -480
    },
    "id": "7fQiPPvkD0qn",
    "outputId": "24bc711b-e320-4f68-cfb7-c7b472aec31d"
   },
   "outputs": [
    {
     "name": "stdout",
     "output_type": "stream",
     "text": [
      "/content/drive/My Drive/CS5260/results\n",
      "making prediction...\n",
      "Image1 takes 9.1382s. Result is 1034#0\n"
     ]
    },
    {
     "ename": "KeyboardInterrupt",
     "evalue": "ignored",
     "output_type": "error",
     "traceback": [
      "\u001b[0;31m---------------------------------------------------------------------------\u001b[0m",
      "\u001b[0;31mKeyboardInterrupt\u001b[0m                         Traceback (most recent call last)",
      "\u001b[0;32m<ipython-input-10-9efcb0e163ba>\u001b[0m in \u001b[0;36m<module>\u001b[0;34m()\u001b[0m\n\u001b[1;32m     16\u001b[0m    \u001b[0mimg\u001b[0m\u001b[0;34m=\u001b[0m \u001b[0mImage\u001b[0m\u001b[0;34m.\u001b[0m\u001b[0mopen\u001b[0m\u001b[0;34m(\u001b[0m\u001b[0mfilename\u001b[0m\u001b[0;34m)\u001b[0m\u001b[0;34m\u001b[0m\u001b[0;34m\u001b[0m\u001b[0m\n\u001b[1;32m     17\u001b[0m    \u001b[0;31m#output_index, output_pred = voting(img, N=100, j=0)\u001b[0m\u001b[0;34m\u001b[0m\u001b[0;34m\u001b[0m\u001b[0;34m\u001b[0m\u001b[0m\n\u001b[0;32m---> 18\u001b[0;31m    \u001b[0moutput_index\u001b[0m\u001b[0;34m,\u001b[0m \u001b[0moutput_pred\u001b[0m \u001b[0;34m=\u001b[0m \u001b[0mlstm\u001b[0m\u001b[0;34m(\u001b[0m\u001b[0mimg\u001b[0m\u001b[0;34m,\u001b[0m \u001b[0mN\u001b[0m\u001b[0;34m=\u001b[0m\u001b[0;36m100\u001b[0m\u001b[0;34m,\u001b[0m \u001b[0mj\u001b[0m\u001b[0;34m=\u001b[0m\u001b[0;36m0\u001b[0m\u001b[0;34m)\u001b[0m\u001b[0;34m\u001b[0m\u001b[0;34m\u001b[0m\u001b[0m\n\u001b[0m\u001b[1;32m     19\u001b[0m    \u001b[0;31m#print(output_index, output_pred)\u001b[0m\u001b[0;34m\u001b[0m\u001b[0;34m\u001b[0m\u001b[0;34m\u001b[0m\u001b[0m\n\u001b[1;32m     20\u001b[0m   \u001b[0;31m# labels = filename.split('/')[6]\u001b[0m\u001b[0;34m\u001b[0m\u001b[0;34m\u001b[0m\u001b[0;34m\u001b[0m\u001b[0m\n",
      "\u001b[0;32m<ipython-input-8-e4724d4d2d56>\u001b[0m in \u001b[0;36mlstm\u001b[0;34m(image, N, j)\u001b[0m\n\u001b[1;32m     10\u001b[0m     \u001b[0mX\u001b[0m \u001b[0;34m=\u001b[0m \u001b[0mnp\u001b[0m\u001b[0;34m.\u001b[0m\u001b[0mzeros\u001b[0m\u001b[0;34m(\u001b[0m\u001b[0;34m(\u001b[0m\u001b[0;36m1\u001b[0m\u001b[0;34m,\u001b[0m \u001b[0;36m100\u001b[0m\u001b[0;34m,\u001b[0m \u001b[0;36m4\u001b[0m\u001b[0;34m)\u001b[0m\u001b[0;34m)\u001b[0m\u001b[0;34m\u001b[0m\u001b[0;34m\u001b[0m\u001b[0m\n\u001b[1;32m     11\u001b[0m     \u001b[0;32mfor\u001b[0m \u001b[0mi\u001b[0m \u001b[0;32min\u001b[0m \u001b[0mrange\u001b[0m\u001b[0;34m(\u001b[0m\u001b[0mN\u001b[0m\u001b[0;34m)\u001b[0m\u001b[0;34m:\u001b[0m\u001b[0;34m\u001b[0m\u001b[0;34m\u001b[0m\u001b[0m\n\u001b[0;32m---> 12\u001b[0;31m          \u001b[0mimg_deflected\u001b[0m \u001b[0;34m=\u001b[0m \u001b[0mpixel_deflection_without_map\u001b[0m\u001b[0;34m(\u001b[0m\u001b[0mimg\u001b[0m\u001b[0;34m,\u001b[0m \u001b[0mdeflections\u001b[0m\u001b[0;34m=\u001b[0m\u001b[0;36m5000\u001b[0m\u001b[0;34m,\u001b[0m \u001b[0mwindow\u001b[0m\u001b[0;34m=\u001b[0m\u001b[0;36m10\u001b[0m\u001b[0;34m)\u001b[0m\u001b[0;34m\u001b[0m\u001b[0;34m\u001b[0m\u001b[0m\n\u001b[0m\u001b[1;32m     13\u001b[0m          \u001b[0mfilename\u001b[0m \u001b[0;34m=\u001b[0m \u001b[0;34m\"test\"\u001b[0m\u001b[0;34m\u001b[0m\u001b[0;34m\u001b[0m\u001b[0m\n\u001b[1;32m     14\u001b[0m          \u001b[0mi\u001b[0m\u001b[0;34m=\u001b[0m \u001b[0mstr\u001b[0m\u001b[0;34m(\u001b[0m\u001b[0mi\u001b[0m\u001b[0;34m)\u001b[0m\u001b[0;34m\u001b[0m\u001b[0;34m\u001b[0m\u001b[0m\n",
      "\u001b[0;32m<ipython-input-6-2f1e7a2444bc>\u001b[0m in \u001b[0;36mpixel_deflection_without_map\u001b[0;34m(img, deflections, window)\u001b[0m\n\u001b[1;32m     21\u001b[0m             \u001b[0mx\u001b[0m\u001b[0;34m,\u001b[0m\u001b[0my\u001b[0m \u001b[0;34m=\u001b[0m \u001b[0mrandint\u001b[0m\u001b[0;34m(\u001b[0m\u001b[0;36m0\u001b[0m\u001b[0;34m,\u001b[0m\u001b[0mH\u001b[0m\u001b[0;34m-\u001b[0m\u001b[0;36m1\u001b[0m\u001b[0;34m)\u001b[0m\u001b[0;34m,\u001b[0m \u001b[0mrandint\u001b[0m\u001b[0;34m(\u001b[0m\u001b[0;36m0\u001b[0m\u001b[0;34m,\u001b[0m\u001b[0mW\u001b[0m\u001b[0;34m-\u001b[0m\u001b[0;36m1\u001b[0m\u001b[0;34m)\u001b[0m\u001b[0;34m\u001b[0m\u001b[0;34m\u001b[0m\u001b[0m\n\u001b[1;32m     22\u001b[0m             \u001b[0;32mwhile\u001b[0m \u001b[0;32mTrue\u001b[0m\u001b[0;34m:\u001b[0m \u001b[0;31m#this is to ensure that PD pixel lies inside the image\u001b[0m\u001b[0;34m\u001b[0m\u001b[0;34m\u001b[0m\u001b[0m\n\u001b[0;32m---> 23\u001b[0;31m                 \u001b[0ma\u001b[0m\u001b[0;34m,\u001b[0m\u001b[0mb\u001b[0m \u001b[0;34m=\u001b[0m \u001b[0mrandint\u001b[0m\u001b[0;34m(\u001b[0m\u001b[0;34m-\u001b[0m\u001b[0;36m1\u001b[0m\u001b[0;34m*\u001b[0m\u001b[0mwindow\u001b[0m\u001b[0;34m,\u001b[0m\u001b[0mwindow\u001b[0m\u001b[0;34m)\u001b[0m\u001b[0;34m,\u001b[0m \u001b[0mrandint\u001b[0m\u001b[0;34m(\u001b[0m\u001b[0;34m-\u001b[0m\u001b[0;36m1\u001b[0m\u001b[0;34m*\u001b[0m\u001b[0mwindow\u001b[0m\u001b[0;34m,\u001b[0m\u001b[0mwindow\u001b[0m\u001b[0;34m)\u001b[0m\u001b[0;34m\u001b[0m\u001b[0;34m\u001b[0m\u001b[0m\n\u001b[0m\u001b[1;32m     24\u001b[0m                 \u001b[0;32mif\u001b[0m \u001b[0mx\u001b[0m\u001b[0;34m+\u001b[0m\u001b[0ma\u001b[0m \u001b[0;34m<\u001b[0m \u001b[0mH\u001b[0m \u001b[0;32mand\u001b[0m \u001b[0mx\u001b[0m\u001b[0;34m+\u001b[0m\u001b[0ma\u001b[0m \u001b[0;34m>\u001b[0m \u001b[0;36m0\u001b[0m \u001b[0;32mand\u001b[0m \u001b[0my\u001b[0m\u001b[0;34m+\u001b[0m\u001b[0mb\u001b[0m \u001b[0;34m<\u001b[0m \u001b[0mW\u001b[0m \u001b[0;32mand\u001b[0m \u001b[0my\u001b[0m\u001b[0;34m+\u001b[0m\u001b[0mb\u001b[0m \u001b[0;34m>\u001b[0m \u001b[0;36m0\u001b[0m\u001b[0;34m:\u001b[0m \u001b[0;32mbreak\u001b[0m\u001b[0;34m\u001b[0m\u001b[0;34m\u001b[0m\u001b[0m\n\u001b[1;32m     25\u001b[0m             \u001b[0;31m# calling pixel deflection as pixel swap would be a misnomer,\u001b[0m\u001b[0;34m\u001b[0m\u001b[0;34m\u001b[0m\u001b[0;34m\u001b[0m\u001b[0m\n",
      "\u001b[0;32m/usr/lib/python3.6/random.py\u001b[0m in \u001b[0;36mrandint\u001b[0;34m(self, a, b)\u001b[0m\n\u001b[1;32m    219\u001b[0m         \"\"\"\n\u001b[1;32m    220\u001b[0m \u001b[0;34m\u001b[0m\u001b[0m\n\u001b[0;32m--> 221\u001b[0;31m         \u001b[0;32mreturn\u001b[0m \u001b[0mself\u001b[0m\u001b[0;34m.\u001b[0m\u001b[0mrandrange\u001b[0m\u001b[0;34m(\u001b[0m\u001b[0ma\u001b[0m\u001b[0;34m,\u001b[0m \u001b[0mb\u001b[0m\u001b[0;34m+\u001b[0m\u001b[0;36m1\u001b[0m\u001b[0;34m)\u001b[0m\u001b[0;34m\u001b[0m\u001b[0;34m\u001b[0m\u001b[0m\n\u001b[0m\u001b[1;32m    222\u001b[0m \u001b[0;34m\u001b[0m\u001b[0m\n\u001b[1;32m    223\u001b[0m     def _randbelow(self, n, int=int, maxsize=1<<BPF, type=type,\n",
      "\u001b[0;32m/usr/lib/python3.6/random.py\u001b[0m in \u001b[0;36mrandrange\u001b[0;34m(self, start, stop, step, _int)\u001b[0m\n\u001b[1;32m    195\u001b[0m         \u001b[0mwidth\u001b[0m \u001b[0;34m=\u001b[0m \u001b[0mistop\u001b[0m \u001b[0;34m-\u001b[0m \u001b[0mistart\u001b[0m\u001b[0;34m\u001b[0m\u001b[0;34m\u001b[0m\u001b[0m\n\u001b[1;32m    196\u001b[0m         \u001b[0;32mif\u001b[0m \u001b[0mstep\u001b[0m \u001b[0;34m==\u001b[0m \u001b[0;36m1\u001b[0m \u001b[0;32mand\u001b[0m \u001b[0mwidth\u001b[0m \u001b[0;34m>\u001b[0m \u001b[0;36m0\u001b[0m\u001b[0;34m:\u001b[0m\u001b[0;34m\u001b[0m\u001b[0;34m\u001b[0m\u001b[0m\n\u001b[0;32m--> 197\u001b[0;31m             \u001b[0;32mreturn\u001b[0m \u001b[0mistart\u001b[0m \u001b[0;34m+\u001b[0m \u001b[0mself\u001b[0m\u001b[0;34m.\u001b[0m\u001b[0m_randbelow\u001b[0m\u001b[0;34m(\u001b[0m\u001b[0mwidth\u001b[0m\u001b[0;34m)\u001b[0m\u001b[0;34m\u001b[0m\u001b[0;34m\u001b[0m\u001b[0m\n\u001b[0m\u001b[1;32m    198\u001b[0m         \u001b[0;32mif\u001b[0m \u001b[0mstep\u001b[0m \u001b[0;34m==\u001b[0m \u001b[0;36m1\u001b[0m\u001b[0;34m:\u001b[0m\u001b[0;34m\u001b[0m\u001b[0;34m\u001b[0m\u001b[0m\n\u001b[1;32m    199\u001b[0m             \u001b[0;32mraise\u001b[0m \u001b[0mValueError\u001b[0m\u001b[0;34m(\u001b[0m\u001b[0;34m\"empty range for randrange() (%d,%d, %d)\"\u001b[0m \u001b[0;34m%\u001b[0m \u001b[0;34m(\u001b[0m\u001b[0mistart\u001b[0m\u001b[0;34m,\u001b[0m \u001b[0mistop\u001b[0m\u001b[0;34m,\u001b[0m \u001b[0mwidth\u001b[0m\u001b[0;34m)\u001b[0m\u001b[0;34m)\u001b[0m\u001b[0;34m\u001b[0m\u001b[0;34m\u001b[0m\u001b[0m\n",
      "\u001b[0;32m/usr/lib/python3.6/random.py\u001b[0m in \u001b[0;36m_randbelow\u001b[0;34m(self, n, int, maxsize, type, Method, BuiltinMethod)\u001b[0m\n\u001b[1;32m    233\u001b[0m             \u001b[0mr\u001b[0m \u001b[0;34m=\u001b[0m \u001b[0mgetrandbits\u001b[0m\u001b[0;34m(\u001b[0m\u001b[0mk\u001b[0m\u001b[0;34m)\u001b[0m          \u001b[0;31m# 0 <= r < 2**k\u001b[0m\u001b[0;34m\u001b[0m\u001b[0;34m\u001b[0m\u001b[0m\n\u001b[1;32m    234\u001b[0m             \u001b[0;32mwhile\u001b[0m \u001b[0mr\u001b[0m \u001b[0;34m>=\u001b[0m \u001b[0mn\u001b[0m\u001b[0;34m:\u001b[0m\u001b[0;34m\u001b[0m\u001b[0;34m\u001b[0m\u001b[0m\n\u001b[0;32m--> 235\u001b[0;31m                 \u001b[0mr\u001b[0m \u001b[0;34m=\u001b[0m \u001b[0mgetrandbits\u001b[0m\u001b[0;34m(\u001b[0m\u001b[0mk\u001b[0m\u001b[0;34m)\u001b[0m\u001b[0;34m\u001b[0m\u001b[0;34m\u001b[0m\u001b[0m\n\u001b[0m\u001b[1;32m    236\u001b[0m             \u001b[0;32mreturn\u001b[0m \u001b[0mr\u001b[0m\u001b[0;34m\u001b[0m\u001b[0;34m\u001b[0m\u001b[0m\n\u001b[1;32m    237\u001b[0m         \u001b[0;31m# There's an overridden random() method but no new getrandbits() method,\u001b[0m\u001b[0;34m\u001b[0m\u001b[0;34m\u001b[0m\u001b[0;34m\u001b[0m\u001b[0m\n",
      "\u001b[0;31mKeyboardInterrupt\u001b[0m: "
     ]
    }
   ],
   "source": [
    " \n",
    "os.chdir(results_dir)\n",
    "!pwd\n",
    "import time\n",
    "i = 0\n",
    "correct = 0\n",
    "\n",
    "\n",
    "folders = ('artifacts', 'cancer_regions', 'normal_regions', 'other')\n",
    "pattern = '{}/*/*.png'.format(images_dir, ''.join(folders))\n",
    "\n",
    "for filename in glob.glob(pattern):\n",
    "    start = time.time()\n",
    "    #print(filename)\n",
    "    \n",
    "    img= Image.open(filename) \n",
    "    #output_index, output_pred = voting(img, N=100, j=0)\n",
    "    output_index, output_pred = lstm(img, N=100, j=0)\n",
    "    #print(output_index, output_pred)\n",
    "   # labels = filename.split('/')[6]\n",
    "   #  i=i+1\n",
    "   # if output_pred == labels:\n",
    "   #     print(output_index, output_pred)\n",
    "   #     correct = correct + 1 \n",
    "    #else:\n",
    "     #   print(filename, x_pred, x_pred_prob)\n",
    "   # acc = correct/i\n",
    "    \n",
    "    #infer result to file\n",
    "    output_index = str(output_index)\n",
    "    filename = filename.split('/')[7].replace('.png','')\n",
    "    filename = str(filename)\n",
    "    \n",
    "    file1 = open(\"A0076918N.txt\",\"a\") \n",
    "    i=i+1\n",
    "    if i == 1:\n",
    "        file1.write(filename + \"#\" +output_index)\n",
    "    \n",
    "    else:\n",
    "        file1.write('\\n' + filename + \"#\" +output_index)\n",
    "    file1.close()  \n",
    "    stop = time.time()\n",
    "    duration = stop-start\n",
    "    print(\"Image\"+ str(i)+ \" takes\", str(round(duration, 4))+\"s.\", \"Result is \"+ filename + \"#\" +output_index) \n",
    "\n",
    "\n",
    "#print(acc)\n",
    "\n",
    " \n",
    " "
   ]
  }
 ],
 "metadata": {
  "accelerator": "GPU",
  "colab": {
   "collapsed_sections": [],
   "name": "A0076918N.ipynb",
   "provenance": [],
   "toc_visible": true
  },
  "kernelspec": {
   "display_name": "Python 3",
   "language": "python",
   "name": "python3"
  },
  "language_info": {
   "codemirror_mode": {
    "name": "ipython",
    "version": 3
   },
   "file_extension": ".py",
   "mimetype": "text/x-python",
   "name": "python",
   "nbconvert_exporter": "python",
   "pygments_lexer": "ipython3",
   "version": "3.6.10"
  }
 },
 "nbformat": 4,
 "nbformat_minor": 1
}
